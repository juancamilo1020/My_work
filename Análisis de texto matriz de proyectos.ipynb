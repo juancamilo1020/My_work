{
 "cells": [
  {
   "cell_type": "code",
   "execution_count": 14,
   "metadata": {
    "collapsed": true
   },
   "outputs": [
    {
     "name": "stdout",
     "output_type": "stream",
     "text": [
      "Looking in links: https://ucd-dnp.github.io/ConTexto/contexto_stable.html\n",
      "Requirement already satisfied: pip in /opt/anaconda3/lib/python3.8/site-packages (20.2.4)\n",
      "Requirement already satisfied: install in /opt/anaconda3/lib/python3.8/site-packages (1.3.4)\n",
      "Requirement already satisfied: contexto in /opt/anaconda3/lib/python3.8/site-packages (0.1.0)\n",
      "Requirement already satisfied: python-docx==0.8.10 in /opt/anaconda3/lib/python3.8/site-packages (from contexto) (0.8.10)\n",
      "Requirement already satisfied: spacy==2.3.2 in /opt/anaconda3/lib/python3.8/site-packages (from contexto) (2.3.2)\n",
      "Requirement already satisfied: jellyfish==0.8.2 in /opt/anaconda3/lib/python3.8/site-packages (from contexto) (0.8.2)\n",
      "Requirement already satisfied: wordcloud==1.8.0 in /opt/anaconda3/lib/python3.8/site-packages (from contexto) (1.8.0)\n",
      "Requirement already satisfied: networkx==2.5 in /opt/anaconda3/lib/python3.8/site-packages (from contexto) (2.5)\n",
      "Requirement already satisfied: reportlab==3.5.48 in /opt/anaconda3/lib/python3.8/site-packages (from contexto) (3.5.48)\n",
      "Requirement already satisfied: gensim==3.8.3 in /opt/anaconda3/lib/python3.8/site-packages (from contexto) (3.8.3)\n",
      "Requirement already satisfied: pandas==1.1.1 in /opt/anaconda3/lib/python3.8/site-packages (from contexto) (1.1.1)\n",
      "Requirement already satisfied: docx2txt==0.8 in /opt/anaconda3/lib/python3.8/site-packages (from contexto) (0.8)\n",
      "Requirement already satisfied: matplotlib==3.3.1 in /opt/anaconda3/lib/python3.8/site-packages (from contexto) (3.3.1)\n",
      "Requirement already satisfied: slate3k==0.5.3 in /opt/anaconda3/lib/python3.8/site-packages (from contexto) (0.5.3)\n",
      "Requirement already satisfied: numpy==1.19.1 in /opt/anaconda3/lib/python3.8/site-packages (from contexto) (1.19.1)\n",
      "Requirement already satisfied: pytesseract==0.3.5 in /opt/anaconda3/lib/python3.8/site-packages (from contexto) (0.3.5)\n",
      "Requirement already satisfied: PyPDF2==1.26.0 in /opt/anaconda3/lib/python3.8/site-packages (from contexto) (1.26.0)\n",
      "Requirement already satisfied: scikit-learn==0.23.2 in /opt/anaconda3/lib/python3.8/site-packages (from contexto) (0.23.2)\n",
      "Requirement already satisfied: opencv-python==4.4.0.42 in /opt/anaconda3/lib/python3.8/site-packages (from contexto) (4.4.0.42)\n",
      "Requirement already satisfied: pdf2image==1.14.0 in /opt/anaconda3/lib/python3.8/site-packages (from contexto) (1.14.0)\n",
      "Requirement already satisfied: googletrans==2.4.0 in /opt/anaconda3/lib/python3.8/site-packages (from contexto) (2.4.0)\n",
      "Requirement already satisfied: pyspellchecker==0.5.5 in /opt/anaconda3/lib/python3.8/site-packages (from contexto) (0.5.5)\n",
      "Requirement already satisfied: nltk==3.5 in /opt/anaconda3/lib/python3.8/site-packages (from contexto) (3.5)\n",
      "Requirement already satisfied: langid==1.1.6 in /opt/anaconda3/lib/python3.8/site-packages (from contexto) (1.1.6)\n",
      "Requirement already satisfied: lxml>=2.3.2 in /opt/anaconda3/lib/python3.8/site-packages (from python-docx==0.8.10->contexto) (4.6.1)\n",
      "Requirement already satisfied: setuptools in /opt/anaconda3/lib/python3.8/site-packages (from spacy==2.3.2->contexto) (50.3.1.post20201107)\n",
      "Requirement already satisfied: srsly<1.1.0,>=1.0.2 in /opt/anaconda3/lib/python3.8/site-packages (from spacy==2.3.2->contexto) (1.0.4)\n",
      "Requirement already satisfied: blis<0.5.0,>=0.4.0 in /opt/anaconda3/lib/python3.8/site-packages (from spacy==2.3.2->contexto) (0.4.1)\n",
      "Requirement already satisfied: thinc==7.4.1 in /opt/anaconda3/lib/python3.8/site-packages (from spacy==2.3.2->contexto) (7.4.1)\n",
      "Requirement already satisfied: murmurhash<1.1.0,>=0.28.0 in /opt/anaconda3/lib/python3.8/site-packages (from spacy==2.3.2->contexto) (1.0.4)\n",
      "Requirement already satisfied: tqdm<5.0.0,>=4.38.0 in /opt/anaconda3/lib/python3.8/site-packages (from spacy==2.3.2->contexto) (4.50.2)\n",
      "Requirement already satisfied: requests<3.0.0,>=2.13.0 in /opt/anaconda3/lib/python3.8/site-packages (from spacy==2.3.2->contexto) (2.24.0)\n",
      "Requirement already satisfied: plac<1.2.0,>=0.9.6 in /opt/anaconda3/lib/python3.8/site-packages (from spacy==2.3.2->contexto) (1.1.3)\n",
      "Requirement already satisfied: preshed<3.1.0,>=3.0.2 in /opt/anaconda3/lib/python3.8/site-packages (from spacy==2.3.2->contexto) (3.0.4)\n",
      "Requirement already satisfied: wasabi<1.1.0,>=0.4.0 in /opt/anaconda3/lib/python3.8/site-packages (from spacy==2.3.2->contexto) (0.8.0)\n",
      "Requirement already satisfied: cymem<2.1.0,>=2.0.2 in /opt/anaconda3/lib/python3.8/site-packages (from spacy==2.3.2->contexto) (2.0.4)\n",
      "Requirement already satisfied: catalogue<1.1.0,>=0.0.7 in /opt/anaconda3/lib/python3.8/site-packages (from spacy==2.3.2->contexto) (1.0.0)\n",
      "Requirement already satisfied: pillow in /opt/anaconda3/lib/python3.8/site-packages (from wordcloud==1.8.0->contexto) (8.0.1)\n",
      "Requirement already satisfied: decorator>=4.3.0 in /opt/anaconda3/lib/python3.8/site-packages (from networkx==2.5->contexto) (4.4.2)\n",
      "Requirement already satisfied: smart-open>=1.8.1 in /opt/anaconda3/lib/python3.8/site-packages (from gensim==3.8.3->contexto) (3.0.0)\n",
      "Requirement already satisfied: scipy>=0.18.1 in /opt/anaconda3/lib/python3.8/site-packages (from gensim==3.8.3->contexto) (1.5.2)\n",
      "Requirement already satisfied: six>=1.5.0 in /opt/anaconda3/lib/python3.8/site-packages (from gensim==3.8.3->contexto) (1.15.0)\n",
      "Requirement already satisfied: pytz>=2017.2 in /opt/anaconda3/lib/python3.8/site-packages (from pandas==1.1.1->contexto) (2020.1)\n",
      "Requirement already satisfied: python-dateutil>=2.7.3 in /opt/anaconda3/lib/python3.8/site-packages (from pandas==1.1.1->contexto) (2.8.1)\n",
      "Requirement already satisfied: kiwisolver>=1.0.1 in /opt/anaconda3/lib/python3.8/site-packages (from matplotlib==3.3.1->contexto) (1.3.0)\n",
      "Requirement already satisfied: cycler>=0.10 in /opt/anaconda3/lib/python3.8/site-packages (from matplotlib==3.3.1->contexto) (0.10.0)\n",
      "Requirement already satisfied: certifi>=2020.06.20 in /opt/anaconda3/lib/python3.8/site-packages (from matplotlib==3.3.1->contexto) (2020.6.20)\n",
      "Requirement already satisfied: pyparsing!=2.0.4,!=2.1.2,!=2.1.6,>=2.0.3 in /opt/anaconda3/lib/python3.8/site-packages (from matplotlib==3.3.1->contexto) (2.4.7)\n",
      "Requirement already satisfied: pdfminer3k in /opt/anaconda3/lib/python3.8/site-packages (from slate3k==0.5.3->contexto) (1.3.4)\n",
      "Requirement already satisfied: threadpoolctl>=2.0.0 in /opt/anaconda3/lib/python3.8/site-packages (from scikit-learn==0.23.2->contexto) (2.1.0)\n",
      "Requirement already satisfied: joblib>=0.11 in /opt/anaconda3/lib/python3.8/site-packages (from scikit-learn==0.23.2->contexto) (0.17.0)\n",
      "Requirement already satisfied: regex in /opt/anaconda3/lib/python3.8/site-packages (from nltk==3.5->contexto) (2020.10.15)\n",
      "Requirement already satisfied: click in /opt/anaconda3/lib/python3.8/site-packages (from nltk==3.5->contexto) (7.1.2)\n",
      "Requirement already satisfied: urllib3!=1.25.0,!=1.25.1,<1.26,>=1.21.1 in /opt/anaconda3/lib/python3.8/site-packages (from requests<3.0.0,>=2.13.0->spacy==2.3.2->contexto) (1.25.11)\n",
      "Requirement already satisfied: idna<3,>=2.5 in /opt/anaconda3/lib/python3.8/site-packages (from requests<3.0.0,>=2.13.0->spacy==2.3.2->contexto) (2.10)\n",
      "Requirement already satisfied: chardet<4,>=3.0.2 in /opt/anaconda3/lib/python3.8/site-packages (from requests<3.0.0,>=2.13.0->spacy==2.3.2->contexto) (3.0.4)\n",
      "Requirement already satisfied: ply in /opt/anaconda3/lib/python3.8/site-packages (from pdfminer3k->slate3k==0.5.3->contexto) (3.11)\n",
      "Note: you may need to restart the kernel to use updated packages.\n"
     ]
    }
   ],
   "source": [
    "pip install pip install contexto -f https://ucd-dnp.github.io/ConTexto/contexto_stable.html"
   ]
  },
  {
   "cell_type": "code",
   "execution_count": 15,
   "metadata": {
    "collapsed": true
   },
   "outputs": [
    {
     "name": "stdout",
     "output_type": "stream",
     "text": [
      "Requirement already satisfied: plotly in /opt/anaconda3/lib/python3.8/site-packages (4.12.0)\n",
      "Requirement already satisfied: retrying>=1.3.3 in /opt/anaconda3/lib/python3.8/site-packages (from plotly) (1.3.3)\n",
      "Requirement already satisfied: six in /opt/anaconda3/lib/python3.8/site-packages (from plotly) (1.15.0)\n",
      "Note: you may need to restart the kernel to use updated packages.\n"
     ]
    }
   ],
   "source": [
    "pip install plotly"
   ]
  },
  {
   "cell_type": "code",
   "execution_count": 3,
   "metadata": {},
   "outputs": [],
   "source": [
    "import os\n",
    "import sys\n",
    "import pandas as pd\n",
    "import numpy as np\n",
    "import shutil\n",
    "from scipy import sparse, triu\n",
    "from sklearn.metrics.pairwise import cosine_similarity\n",
    "from sklearn.cluster import AgglomerativeClustering\n",
    "\n",
    "from contexto.limpieza import *\n",
    "from contexto.exploracion import *\n",
    "from contexto.vectorizacion import *\n",
    "from contexto.stemming import Stemmer, stem_texto\n",
    "from contexto.comparacion import *\n",
    "from nltk.corpus import stopwords\n",
    "\n",
    "import plotly.graph_objects as go"
   ]
  },
  {
   "cell_type": "code",
   "execution_count": 4,
   "metadata": {},
   "outputs": [],
   "source": [
    "datos = pd.read_csv(\"/Users/juancamiloperdomo/Documents/CNC/Evaluación_Contratos_Paz/Base_datos/Base-códigos.csv\")"
   ]
  },
  {
   "cell_type": "code",
   "execution_count": 5,
   "metadata": {
    "scrolled": true
   },
   "outputs": [
    {
     "data": {
      "text/html": [
       "<div>\n",
       "<style scoped>\n",
       "    .dataframe tbody tr th:only-of-type {\n",
       "        vertical-align: middle;\n",
       "    }\n",
       "\n",
       "    .dataframe tbody tr th {\n",
       "        vertical-align: top;\n",
       "    }\n",
       "\n",
       "    .dataframe thead th {\n",
       "        text-align: right;\n",
       "    }\n",
       "</style>\n",
       "<table border=\"1\" class=\"dataframe\">\n",
       "  <thead>\n",
       "    <tr style=\"text-align: right;\">\n",
       "      <th></th>\n",
       "      <th>Contrato Plan</th>\n",
       "      <th>Sector</th>\n",
       "      <th>Proyecto</th>\n",
       "      <th>Código_proyecto</th>\n",
       "      <th>Estado</th>\n",
       "    </tr>\n",
       "  </thead>\n",
       "  <tbody>\n",
       "    <tr>\n",
       "      <th>0</th>\n",
       "      <td>Bolívar y Sucre - Contrato Paz</td>\n",
       "      <td>Salud y Proteccion Social</td>\n",
       "      <td>CONSTRUCCION Y DOTACION DE INFRAESTRUCTURA SED...</td>\n",
       "      <td>BSSAL24</td>\n",
       "      <td>En Gestión</td>\n",
       "    </tr>\n",
       "    <tr>\n",
       "      <th>1</th>\n",
       "      <td>Bolívar y Sucre - Contrato Paz</td>\n",
       "      <td>Vivienda Ciudad y Territorio - Agua</td>\n",
       "      <td>E Y D PARA LA CONSTRUCCION DE UN RELLENO SANIT...</td>\n",
       "      <td>BSAGUA31</td>\n",
       "      <td>En Gestión</td>\n",
       "    </tr>\n",
       "    <tr>\n",
       "      <th>2</th>\n",
       "      <td>Bolívar y Sucre - Contrato Paz</td>\n",
       "      <td>Planeacion</td>\n",
       "      <td>ESTUDIOS Y DISEÑOS PARA LA PAVIMENTACION O REH...</td>\n",
       "      <td>BSPLA39</td>\n",
       "      <td>En Gestión</td>\n",
       "    </tr>\n",
       "    <tr>\n",
       "      <th>3</th>\n",
       "      <td>Bolívar y Sucre - Contrato Paz</td>\n",
       "      <td>Comercio Industria y Turismo</td>\n",
       "      <td>IMPLEMENTACION DEL PROGRAMA TURISMO Y PAZ EN L...</td>\n",
       "      <td>BSCIT8</td>\n",
       "      <td>En Gestión</td>\n",
       "    </tr>\n",
       "    <tr>\n",
       "      <th>4</th>\n",
       "      <td>Bolívar y Sucre - Contrato Paz</td>\n",
       "      <td>Salud y Proteccion Social</td>\n",
       "      <td>(MEJORAMIENTO) CONSTRUCCION Y DOTACION DE INFR...</td>\n",
       "      <td>BSSAL23</td>\n",
       "      <td>En Gestión</td>\n",
       "    </tr>\n",
       "  </tbody>\n",
       "</table>\n",
       "</div>"
      ],
      "text/plain": [
       "                    Contrato Plan                               Sector  \\\n",
       "0  Bolívar y Sucre - Contrato Paz            Salud y Proteccion Social   \n",
       "1  Bolívar y Sucre - Contrato Paz  Vivienda Ciudad y Territorio - Agua   \n",
       "2  Bolívar y Sucre - Contrato Paz                           Planeacion   \n",
       "3  Bolívar y Sucre - Contrato Paz         Comercio Industria y Turismo   \n",
       "4  Bolívar y Sucre - Contrato Paz            Salud y Proteccion Social   \n",
       "\n",
       "                                            Proyecto Código_proyecto  \\\n",
       "0  CONSTRUCCION Y DOTACION DE INFRAESTRUCTURA SED...         BSSAL24   \n",
       "1  E Y D PARA LA CONSTRUCCION DE UN RELLENO SANIT...        BSAGUA31   \n",
       "2  ESTUDIOS Y DISEÑOS PARA LA PAVIMENTACION O REH...         BSPLA39   \n",
       "3  IMPLEMENTACION DEL PROGRAMA TURISMO Y PAZ EN L...          BSCIT8   \n",
       "4  (MEJORAMIENTO) CONSTRUCCION Y DOTACION DE INFR...         BSSAL23   \n",
       "\n",
       "       Estado  \n",
       "0  En Gestión  \n",
       "1  En Gestión  \n",
       "2  En Gestión  \n",
       "3  En Gestión  \n",
       "4  En Gestión  "
      ]
     },
     "execution_count": 5,
     "metadata": {},
     "output_type": "execute_result"
    }
   ],
   "source": [
    "datos.head()"
   ]
  },
  {
   "cell_type": "code",
   "execution_count": 6,
   "metadata": {},
   "outputs": [],
   "source": [
    "mis_stopwords = cargar_stopwords('mis_stopwords.txt')\n",
    "stopwords_esp = stopwords.words('spanish')\n",
    "stopwords = lista_stopwords()"
   ]
  },
  {
   "cell_type": "code",
   "execution_count": 7,
   "metadata": {},
   "outputs": [],
   "source": [
    "lista_palabras = []\n",
    "lista_expresiones = mis_stopwords[1]"
   ]
  },
  {
   "cell_type": "code",
   "execution_count": 8,
   "metadata": {},
   "outputs": [],
   "source": [
    "for i in [stopwords, mis_stopwords[0]]:\n",
    "    lista_palabras += i"
   ]
  },
  {
   "cell_type": "code",
   "execution_count": 9,
   "metadata": {},
   "outputs": [],
   "source": [
    "lista_palabras = list(set(lista_palabras))\n",
    "lista_expresiones = list(set(lista_expresiones))"
   ]
  },
  {
   "cell_type": "code",
   "execution_count": 10,
   "metadata": {},
   "outputs": [],
   "source": [
    "datos['Proyecto limpio'] = datos['Proyecto'].map(lambda x: limpieza_texto(texto=x,\n",
    "                                                                                                          lista_palabras=lista_palabras,\n",
    "                                                                                                          lista_expresiones=lista_expresiones,\n",
    "                                                                                                          ubicacion_archivo=None,\n",
    "                                                                                                          n_min=1, \n",
    "                                                                                                          quitar_numeros=True, \n",
    "                                                                                                          quitar_acentos=True))"
   ]
  },
  {
   "cell_type": "code",
   "execution_count": 11,
   "metadata": {},
   "outputs": [],
   "source": [
    "stemmer = Stemmer(lenguaje='español')\n",
    "datos['Proyecto_limpio_stemming'] = datos['Proyecto limpio'].map(lambda x: stem_texto(x,stemmer=stemmer))"
   ]
  },
  {
   "cell_type": "code",
   "execution_count": 12,
   "metadata": {},
   "outputs": [],
   "source": [
    "shutil.rmtree('out/', ignore_errors=True)\n",
    "sectores = list(datos['Sector'].unique())\n",
    "sectores.append('Todos')"
   ]
  },
  {
   "cell_type": "code",
   "execution_count": 32,
   "metadata": {
    "scrolled": true
   },
   "outputs": [
    {
     "name": "stdout",
     "output_type": "stream",
     "text": [
      ":::::::::::::::::::::::::::::::::::::::::::::::::::::::::::::::::::::::::::::::::::::::::\n",
      "Salud y Proteccion Social\n",
      "Vivienda Ciudad y Territorio - Agua\n",
      "Planeacion\n",
      "Comercio Industria y Turismo\n",
      "Inclusion Social y Reconciliacion\n",
      "Transporte\n",
      "Cultura\n",
      "Vivienda Ciudad y Territorio - Vivienda\n",
      "Educacion\n",
      "Agricultura  y Desarrollo Rural\n",
      "Ambiente y Desarrollo Sostenible\n",
      "Deporte y Recreacion\n",
      "Justicia y Del_Derecho\n",
      "Interior\n",
      "Minas y Energia\n",
      "Trabajo\n",
      "Tecnologías de la Información y las Comunicaciones\n",
      "Defensa y Policia\n",
      "inclusion Social y Reconciliacion\n",
      "Todos\n"
     ]
    }
   ],
   "source": [
    "def getMatrix_fromList(list):\n",
    "    data = []    \n",
    "    for i in range(1, len(list)+1):\n",
    "        data.append(list)\n",
    "\n",
    "    return data\n",
    "\n",
    "print(':::::::::::::::::::::::::::::::::::::::::::::::::::::::::::::::::::::::::::::::::::::::::')\n",
    "for Sector in sectores:   \n",
    "\n",
    "    try:        \n",
    "        print(Sector[:54])\n",
    "        nombre_sector = Sector[:54]\n",
    "        newpath = f'out/{nombre_sector}'\n",
    "        if not os.path.exists(newpath):\n",
    "            os.makedirs(newpath)\n",
    "\n",
    "        if Sector != 'Todos':\n",
    "            df = datos[datos['Sector']==Sector].copy()\n",
    "            \n",
    "        else:\n",
    "            df = datos.copy()\n",
    "            \n",
    "        lista_textos = df['Proyecto limpio'].tolist()\n",
    "        lista_textos_stem = df['Proyecto_limpio_stemming'].tolist()\n",
    "        texto_completo = df['Proyecto limpio'].str.cat(sep=' ')\n",
    "\n",
    "        lista_textos_analisis = lista_textos_stem\n",
    "\n",
    "        texto = texto_completo\n",
    "        n_grama = 1\n",
    "        n_terminos= 150\n",
    "\n",
    "        dictu = frecuencia_ngramas(texto, n_grama, n_terminos)\n",
    "        dictu = pd.DataFrame(dictu.items(), columns=['Término', 'Frecuencia'])\n",
    "\n",
    "        # Graficar y guardar nubes de palabras y bigramas\n",
    "        texto = texto_completo\n",
    "        n_grama = 1\n",
    "        n_terminos=50\n",
    "        graficar=False\n",
    "        nube_palabras(texto, n_grama=n_grama, n_terminos=n_terminos*2, \n",
    "                      titulo=nombre_sector, ubicacion_archivo=f'./out/{nombre_sector}/nube_bigrama.jpg',\n",
    "                      hor=1, graficar=graficar)\n",
    "\n",
    "        grafica_barchart_frecuencias(texto, n_grama=n_grama, dim_figura=(10, 10), titulo=nombre_sector, ascendente=True, \n",
    "                                     ubicacion_archivo=f'./out/{nombre_sector}/barchart_bigrama.jpg',\n",
    "                                     graficar=graficar, n_terminos=n_terminos)\n",
    "      \n",
    "    except Exception as e:\n",
    "        f_sector = \"{:<54}\".format(nombre_sector)\n",
    "        error = str(e)        \n",
    "        print(f'--- Error: {f_sector} : {error}')\n",
    "        continue"
   ]
  },
  {
   "cell_type": "code",
   "execution_count": null,
   "metadata": {},
   "outputs": [],
   "source": []
  }
 ],
 "metadata": {
  "kernelspec": {
   "display_name": "Python 3",
   "language": "python",
   "name": "python3"
  },
  "language_info": {
   "codemirror_mode": {
    "name": "ipython",
    "version": 3
   },
   "file_extension": ".py",
   "mimetype": "text/x-python",
   "name": "python",
   "nbconvert_exporter": "python",
   "pygments_lexer": "ipython3",
   "version": "3.8.5"
  }
 },
 "nbformat": 4,
 "nbformat_minor": 4
}
